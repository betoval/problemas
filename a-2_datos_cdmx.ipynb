{
 "cells": [
  {
   "cell_type": "code",
   "execution_count": 2,
   "metadata": {},
   "outputs": [],
   "source": [
    "import numpy as np\n",
    "import pandas as pd\n",
    "import matplotlib.pyplot as plt"
   ]
  },
  {
   "cell_type": "markdown",
   "metadata": {},
   "source": [
    "**A.2 Datos Abiertos de la CDMX**"
   ]
  },
  {
   "cell_type": "code",
   "execution_count": 3,
   "metadata": {},
   "outputs": [
    {
     "data": {
      "text/html": [
       "<div>\n",
       "<style scoped>\n",
       "    .dataframe tbody tr th:only-of-type {\n",
       "        vertical-align: middle;\n",
       "    }\n",
       "\n",
       "    .dataframe tbody tr th {\n",
       "        vertical-align: top;\n",
       "    }\n",
       "\n",
       "    .dataframe thead th {\n",
       "        text-align: right;\n",
       "    }\n",
       "</style>\n",
       "<table border=\"1\" class=\"dataframe\">\n",
       "  <thead>\n",
       "    <tr style=\"text-align: right;\">\n",
       "      <th></th>\n",
       "      <th>año_hechos</th>\n",
       "      <th>mes_hechos</th>\n",
       "      <th>fecha_hechos</th>\n",
       "      <th>delito</th>\n",
       "      <th>categoria_delito</th>\n",
       "      <th>fiscalía</th>\n",
       "      <th>agencia</th>\n",
       "      <th>unidad_investigacion</th>\n",
       "      <th>colonia_hechos</th>\n",
       "      <th>alcaldia_hechos</th>\n",
       "      <th>fecha_inicio</th>\n",
       "      <th>mes_inicio</th>\n",
       "      <th>ao_inicio</th>\n",
       "      <th>calle_hechos</th>\n",
       "      <th>calle_hechos2</th>\n",
       "      <th>longitud</th>\n",
       "      <th>latitud</th>\n",
       "      <th>Geopoint</th>\n",
       "    </tr>\n",
       "  </thead>\n",
       "  <tbody>\n",
       "    <tr>\n",
       "      <th>0</th>\n",
       "      <td>2016.0</td>\n",
       "      <td>Enero</td>\n",
       "      <td>2016-01-05 17:00:00</td>\n",
       "      <td>LESIONES CULPOSAS</td>\n",
       "      <td>DELITO DE BAJO IMPACTO</td>\n",
       "      <td>INVESTIGACIÓN EN GUSTAVO A. MADERO</td>\n",
       "      <td>GAM-6</td>\n",
       "      <td>UI-1CD</td>\n",
       "      <td>GRANJAS MODERNAS</td>\n",
       "      <td>GUSTAVO A MADERO</td>\n",
       "      <td>2016-01-05 18:35:37</td>\n",
       "      <td>Enero</td>\n",
       "      <td>2016</td>\n",
       "      <td>SAN JUAN DE ARAGON</td>\n",
       "      <td>CALLE ANZAR</td>\n",
       "      <td>-99.103527</td>\n",
       "      <td>19.481076</td>\n",
       "      <td>19.4810759998,-99.103527</td>\n",
       "    </tr>\n",
       "    <tr>\n",
       "      <th>1</th>\n",
       "      <td>2017.0</td>\n",
       "      <td>Noviembre</td>\n",
       "      <td>2017-11-01 14:00:00</td>\n",
       "      <td>ROBO DE VEHICULO DE SERVICIO PARTICULAR SIN VI...</td>\n",
       "      <td>ROBO DE VEHÍCULO CON Y SIN VIOLENCIA</td>\n",
       "      <td>INVESTIGACIÓN EN AZCAPOTZALCO</td>\n",
       "      <td>AZ-1</td>\n",
       "      <td>UI-1SD</td>\n",
       "      <td>NaN</td>\n",
       "      <td>TLALNEPANTLA DE BAZ</td>\n",
       "      <td>2017-11-01 16:45:20</td>\n",
       "      <td>Noviembre</td>\n",
       "      <td>2017</td>\n",
       "      <td>BENITO JUAREZ</td>\n",
       "      <td>MUNICIPIO DE TLALNEPANTLA, ESTADO DE MEXICO</td>\n",
       "      <td>NaN</td>\n",
       "      <td>NaN</td>\n",
       "      <td>NaN</td>\n",
       "    </tr>\n",
       "    <tr>\n",
       "      <th>2</th>\n",
       "      <td>2017.0</td>\n",
       "      <td>Noviembre</td>\n",
       "      <td>2017-11-01 16:40:00</td>\n",
       "      <td>ROBO A TRANSEUNTE EN VIA PUBLICA CON VIOLENCIA</td>\n",
       "      <td>ROBO A TRANSEUNTE EN VÍA PÚBLICA CON Y SIN VIO...</td>\n",
       "      <td>INVESTIGACIÓN EN IZTACALCO</td>\n",
       "      <td>IZC-2</td>\n",
       "      <td>UI-1SD</td>\n",
       "      <td>GABRIEL RAMOS MILLÁN SECCIÓN TLACOTAL</td>\n",
       "      <td>IZTACALCO</td>\n",
       "      <td>2017-11-01 16:56:04</td>\n",
       "      <td>Noviembre</td>\n",
       "      <td>2017</td>\n",
       "      <td>SUR 117</td>\n",
       "      <td>ORIENTE 100A</td>\n",
       "      <td>-99.106072</td>\n",
       "      <td>19.395398</td>\n",
       "      <td>19.3953976727,-99.1060723829</td>\n",
       "    </tr>\n",
       "    <tr>\n",
       "      <th>3</th>\n",
       "      <td>2015.0</td>\n",
       "      <td>Diciembre</td>\n",
       "      <td>2015-12-30 20:00:00</td>\n",
       "      <td>FRAUDE</td>\n",
       "      <td>DELITO DE BAJO IMPACTO</td>\n",
       "      <td>INVESTIGACIÓN EN IZTAPALAPA</td>\n",
       "      <td>IZP-8</td>\n",
       "      <td>UI-1CD</td>\n",
       "      <td>CONSEJO AGRARISTA MEXICANO</td>\n",
       "      <td>IZTAPALAPA</td>\n",
       "      <td>2016-01-05 21:12:42</td>\n",
       "      <td>Enero</td>\n",
       "      <td>2016</td>\n",
       "      <td>CUARTA CERRADA DE FRESNO</td>\n",
       "      <td>ENCINO (SIN REGISTRO DEL SAP)</td>\n",
       "      <td>-99.055887</td>\n",
       "      <td>19.322458</td>\n",
       "      <td>19.3224579998,-99.055887</td>\n",
       "    </tr>\n",
       "    <tr>\n",
       "      <th>4</th>\n",
       "      <td>2018.0</td>\n",
       "      <td>Mayo</td>\n",
       "      <td>2018-05-16 16:00:00</td>\n",
       "      <td>ROBO A REPARTIDOR CON VIOLENCIA</td>\n",
       "      <td>ROBO A REPARTIDOR CON Y SIN VIOLENCIA</td>\n",
       "      <td>INVESTIGACIÓN EN IZTAPALAPA</td>\n",
       "      <td>IZP-9</td>\n",
       "      <td>UI-2SD</td>\n",
       "      <td>DESARROLLO URBANO QUETZALCOATL</td>\n",
       "      <td>IZTAPALAPA</td>\n",
       "      <td>2018-05-22 10:44:45</td>\n",
       "      <td>Mayo</td>\n",
       "      <td>2018</td>\n",
       "      <td>TARASCO</td>\n",
       "      <td>ZAPOTECO</td>\n",
       "      <td>-99.042786</td>\n",
       "      <td>19.319141</td>\n",
       "      <td>19.3191405147,-99.0427862526</td>\n",
       "    </tr>\n",
       "  </tbody>\n",
       "</table>\n",
       "</div>"
      ],
      "text/plain": [
       "   año_hechos mes_hechos         fecha_hechos  \\\n",
       "0      2016.0      Enero  2016-01-05 17:00:00   \n",
       "1      2017.0  Noviembre  2017-11-01 14:00:00   \n",
       "2      2017.0  Noviembre  2017-11-01 16:40:00   \n",
       "3      2015.0  Diciembre  2015-12-30 20:00:00   \n",
       "4      2018.0       Mayo  2018-05-16 16:00:00   \n",
       "\n",
       "                                              delito  \\\n",
       "0                                  LESIONES CULPOSAS   \n",
       "1  ROBO DE VEHICULO DE SERVICIO PARTICULAR SIN VI...   \n",
       "2     ROBO A TRANSEUNTE EN VIA PUBLICA CON VIOLENCIA   \n",
       "3                                             FRAUDE   \n",
       "4                    ROBO A REPARTIDOR CON VIOLENCIA   \n",
       "\n",
       "                                    categoria_delito  \\\n",
       "0                             DELITO DE BAJO IMPACTO   \n",
       "1               ROBO DE VEHÍCULO CON Y SIN VIOLENCIA   \n",
       "2  ROBO A TRANSEUNTE EN VÍA PÚBLICA CON Y SIN VIO...   \n",
       "3                             DELITO DE BAJO IMPACTO   \n",
       "4              ROBO A REPARTIDOR CON Y SIN VIOLENCIA   \n",
       "\n",
       "                             fiscalía agencia unidad_investigacion  \\\n",
       "0  INVESTIGACIÓN EN GUSTAVO A. MADERO   GAM-6               UI-1CD   \n",
       "1       INVESTIGACIÓN EN AZCAPOTZALCO    AZ-1               UI-1SD   \n",
       "2          INVESTIGACIÓN EN IZTACALCO   IZC-2               UI-1SD   \n",
       "3         INVESTIGACIÓN EN IZTAPALAPA   IZP-8               UI-1CD   \n",
       "4         INVESTIGACIÓN EN IZTAPALAPA   IZP-9               UI-2SD   \n",
       "\n",
       "                          colonia_hechos      alcaldia_hechos  \\\n",
       "0                       GRANJAS MODERNAS     GUSTAVO A MADERO   \n",
       "1                                    NaN  TLALNEPANTLA DE BAZ   \n",
       "2  GABRIEL RAMOS MILLÁN SECCIÓN TLACOTAL            IZTACALCO   \n",
       "3             CONSEJO AGRARISTA MEXICANO           IZTAPALAPA   \n",
       "4         DESARROLLO URBANO QUETZALCOATL           IZTAPALAPA   \n",
       "\n",
       "          fecha_inicio mes_inicio  ao_inicio              calle_hechos  \\\n",
       "0  2016-01-05 18:35:37      Enero       2016        SAN JUAN DE ARAGON   \n",
       "1  2017-11-01 16:45:20  Noviembre       2017             BENITO JUAREZ   \n",
       "2  2017-11-01 16:56:04  Noviembre       2017                   SUR 117   \n",
       "3  2016-01-05 21:12:42      Enero       2016  CUARTA CERRADA DE FRESNO   \n",
       "4  2018-05-22 10:44:45       Mayo       2018                   TARASCO   \n",
       "\n",
       "                                 calle_hechos2   longitud    latitud  \\\n",
       "0                                  CALLE ANZAR -99.103527  19.481076   \n",
       "1  MUNICIPIO DE TLALNEPANTLA, ESTADO DE MEXICO        NaN        NaN   \n",
       "2                                 ORIENTE 100A -99.106072  19.395398   \n",
       "3                ENCINO (SIN REGISTRO DEL SAP) -99.055887  19.322458   \n",
       "4                                     ZAPOTECO -99.042786  19.319141   \n",
       "\n",
       "                       Geopoint  \n",
       "0      19.4810759998,-99.103527  \n",
       "1                           NaN  \n",
       "2  19.3953976727,-99.1060723829  \n",
       "3      19.3224579998,-99.055887  \n",
       "4  19.3191405147,-99.0427862526  "
      ]
     },
     "execution_count": 3,
     "metadata": {},
     "output_type": "execute_result"
    }
   ],
   "source": [
    "df = pd.read_csv(\"pgj.csv\")\n",
    "df.head(5)"
   ]
  },
  {
   "cell_type": "code",
   "execution_count": 4,
   "metadata": {},
   "outputs": [
    {
     "name": "stdout",
     "output_type": "stream",
     "text": [
      "<class 'pandas.core.frame.DataFrame'>\n",
      "RangeIndex: 808871 entries, 0 to 808870\n",
      "Data columns (total 18 columns):\n",
      " #   Column                Non-Null Count   Dtype  \n",
      "---  ------                --------------   -----  \n",
      " 0   año_hechos            808673 non-null  float64\n",
      " 1   mes_hechos            808673 non-null  object \n",
      " 2   fecha_hechos          808673 non-null  object \n",
      " 3   delito                808871 non-null  object \n",
      " 4   categoria_delito      808871 non-null  object \n",
      " 5   fiscalía              808871 non-null  object \n",
      " 6   agencia               808871 non-null  object \n",
      " 7   unidad_investigacion  808646 non-null  object \n",
      " 8   colonia_hechos        776781 non-null  object \n",
      " 9   alcaldia_hechos       807860 non-null  object \n",
      " 10  fecha_inicio          808871 non-null  object \n",
      " 11  mes_inicio            808871 non-null  object \n",
      " 12  ao_inicio             808871 non-null  int64  \n",
      " 13  calle_hechos          806467 non-null  object \n",
      " 14  calle_hechos2         328009 non-null  object \n",
      " 15  longitud              777536 non-null  float64\n",
      " 16  latitud               777536 non-null  float64\n",
      " 17  Geopoint              777536 non-null  object \n",
      "dtypes: float64(3), int64(1), object(14)\n",
      "memory usage: 111.1+ MB\n"
     ]
    }
   ],
   "source": [
    "df.info()"
   ]
  },
  {
   "cell_type": "markdown",
   "metadata": {},
   "source": [
    "**1)** Completez de datos: Lo primero que se hace es checar que no existan \"missing values\" en el dataframe, además de comprobar que no hayan valores repetídos.\n",
    "\n",
    "Estar seguros de que los datos estén actualizados. En este caso en partícular no lo están porque estamos tomando datos archivados que abarcan del 2016 al 2019.\n",
    "\n",
    "Asegurar que los datos sean correctos. Está parte es complicada porque debemos checar que la fuente de los datos sea confiable y no tenga errores."
   ]
  },
  {
   "cell_type": "code",
   "execution_count": 5,
   "metadata": {},
   "outputs": [
    {
     "data": {
      "text/plain": [
       "611191"
      ]
     },
     "execution_count": 5,
     "metadata": {},
     "output_type": "execute_result"
    }
   ],
   "source": [
    "#Contando NaN en el dataframe\n",
    "df.isna().values.sum()"
   ]
  },
  {
   "cell_type": "code",
   "execution_count": 6,
   "metadata": {},
   "outputs": [
    {
     "data": {
      "text/plain": [
       "año_hechos                 198\n",
       "mes_hechos                 198\n",
       "fecha_hechos               198\n",
       "delito                       0\n",
       "categoria_delito             0\n",
       "fiscalía                     0\n",
       "agencia                      0\n",
       "unidad_investigacion       225\n",
       "colonia_hechos           32090\n",
       "alcaldia_hechos           1011\n",
       "fecha_inicio                 0\n",
       "mes_inicio                   0\n",
       "ao_inicio                    0\n",
       "calle_hechos              2404\n",
       "calle_hechos2           480862\n",
       "longitud                 31335\n",
       "latitud                  31335\n",
       "Geopoint                 31335\n",
       "dtype: int64"
      ]
     },
     "execution_count": 6,
     "metadata": {},
     "output_type": "execute_result"
    }
   ],
   "source": [
    "#missing values para cada columna\n",
    "df.isnull().sum()"
   ]
  },
  {
   "cell_type": "markdown",
   "metadata": {},
   "source": [
    "Podemos quitar calle_hechos2 porque tiene muchos valores vacios. En lugar de esta columna podemos usar simplemente longitud latitud y geopoint porque tienen menos NaN."
   ]
  },
  {
   "cell_type": "code",
   "execution_count": 7,
   "metadata": {},
   "outputs": [
    {
     "data": {
      "text/html": [
       "<div>\n",
       "<style scoped>\n",
       "    .dataframe tbody tr th:only-of-type {\n",
       "        vertical-align: middle;\n",
       "    }\n",
       "\n",
       "    .dataframe tbody tr th {\n",
       "        vertical-align: top;\n",
       "    }\n",
       "\n",
       "    .dataframe thead th {\n",
       "        text-align: right;\n",
       "    }\n",
       "</style>\n",
       "<table border=\"1\" class=\"dataframe\">\n",
       "  <thead>\n",
       "    <tr style=\"text-align: right;\">\n",
       "      <th></th>\n",
       "      <th>año_hechos</th>\n",
       "      <th>mes_hechos</th>\n",
       "      <th>fecha_hechos</th>\n",
       "      <th>delito</th>\n",
       "      <th>categoria_delito</th>\n",
       "      <th>fiscalía</th>\n",
       "      <th>agencia</th>\n",
       "      <th>unidad_investigacion</th>\n",
       "      <th>colonia_hechos</th>\n",
       "      <th>alcaldia_hechos</th>\n",
       "      <th>fecha_inicio</th>\n",
       "      <th>mes_inicio</th>\n",
       "      <th>ao_inicio</th>\n",
       "      <th>calle_hechos</th>\n",
       "      <th>longitud</th>\n",
       "      <th>latitud</th>\n",
       "      <th>Geopoint</th>\n",
       "    </tr>\n",
       "  </thead>\n",
       "  <tbody>\n",
       "    <tr>\n",
       "      <th>0</th>\n",
       "      <td>2016.0</td>\n",
       "      <td>Enero</td>\n",
       "      <td>2016-01-05 17:00:00</td>\n",
       "      <td>LESIONES CULPOSAS</td>\n",
       "      <td>DELITO DE BAJO IMPACTO</td>\n",
       "      <td>INVESTIGACIÓN EN GUSTAVO A. MADERO</td>\n",
       "      <td>GAM-6</td>\n",
       "      <td>UI-1CD</td>\n",
       "      <td>GRANJAS MODERNAS</td>\n",
       "      <td>GUSTAVO A MADERO</td>\n",
       "      <td>2016-01-05 18:35:37</td>\n",
       "      <td>Enero</td>\n",
       "      <td>2016</td>\n",
       "      <td>SAN JUAN DE ARAGON</td>\n",
       "      <td>-99.103527</td>\n",
       "      <td>19.481076</td>\n",
       "      <td>19.4810759998,-99.103527</td>\n",
       "    </tr>\n",
       "    <tr>\n",
       "      <th>1</th>\n",
       "      <td>2017.0</td>\n",
       "      <td>Noviembre</td>\n",
       "      <td>2017-11-01 14:00:00</td>\n",
       "      <td>ROBO DE VEHICULO DE SERVICIO PARTICULAR SIN VI...</td>\n",
       "      <td>ROBO DE VEHÍCULO CON Y SIN VIOLENCIA</td>\n",
       "      <td>INVESTIGACIÓN EN AZCAPOTZALCO</td>\n",
       "      <td>AZ-1</td>\n",
       "      <td>UI-1SD</td>\n",
       "      <td>NaN</td>\n",
       "      <td>TLALNEPANTLA DE BAZ</td>\n",
       "      <td>2017-11-01 16:45:20</td>\n",
       "      <td>Noviembre</td>\n",
       "      <td>2017</td>\n",
       "      <td>BENITO JUAREZ</td>\n",
       "      <td>NaN</td>\n",
       "      <td>NaN</td>\n",
       "      <td>NaN</td>\n",
       "    </tr>\n",
       "    <tr>\n",
       "      <th>2</th>\n",
       "      <td>2017.0</td>\n",
       "      <td>Noviembre</td>\n",
       "      <td>2017-11-01 16:40:00</td>\n",
       "      <td>ROBO A TRANSEUNTE EN VIA PUBLICA CON VIOLENCIA</td>\n",
       "      <td>ROBO A TRANSEUNTE EN VÍA PÚBLICA CON Y SIN VIO...</td>\n",
       "      <td>INVESTIGACIÓN EN IZTACALCO</td>\n",
       "      <td>IZC-2</td>\n",
       "      <td>UI-1SD</td>\n",
       "      <td>GABRIEL RAMOS MILLÁN SECCIÓN TLACOTAL</td>\n",
       "      <td>IZTACALCO</td>\n",
       "      <td>2017-11-01 16:56:04</td>\n",
       "      <td>Noviembre</td>\n",
       "      <td>2017</td>\n",
       "      <td>SUR 117</td>\n",
       "      <td>-99.106072</td>\n",
       "      <td>19.395398</td>\n",
       "      <td>19.3953976727,-99.1060723829</td>\n",
       "    </tr>\n",
       "    <tr>\n",
       "      <th>3</th>\n",
       "      <td>2015.0</td>\n",
       "      <td>Diciembre</td>\n",
       "      <td>2015-12-30 20:00:00</td>\n",
       "      <td>FRAUDE</td>\n",
       "      <td>DELITO DE BAJO IMPACTO</td>\n",
       "      <td>INVESTIGACIÓN EN IZTAPALAPA</td>\n",
       "      <td>IZP-8</td>\n",
       "      <td>UI-1CD</td>\n",
       "      <td>CONSEJO AGRARISTA MEXICANO</td>\n",
       "      <td>IZTAPALAPA</td>\n",
       "      <td>2016-01-05 21:12:42</td>\n",
       "      <td>Enero</td>\n",
       "      <td>2016</td>\n",
       "      <td>CUARTA CERRADA DE FRESNO</td>\n",
       "      <td>-99.055887</td>\n",
       "      <td>19.322458</td>\n",
       "      <td>19.3224579998,-99.055887</td>\n",
       "    </tr>\n",
       "    <tr>\n",
       "      <th>4</th>\n",
       "      <td>2018.0</td>\n",
       "      <td>Mayo</td>\n",
       "      <td>2018-05-16 16:00:00</td>\n",
       "      <td>ROBO A REPARTIDOR CON VIOLENCIA</td>\n",
       "      <td>ROBO A REPARTIDOR CON Y SIN VIOLENCIA</td>\n",
       "      <td>INVESTIGACIÓN EN IZTAPALAPA</td>\n",
       "      <td>IZP-9</td>\n",
       "      <td>UI-2SD</td>\n",
       "      <td>DESARROLLO URBANO QUETZALCOATL</td>\n",
       "      <td>IZTAPALAPA</td>\n",
       "      <td>2018-05-22 10:44:45</td>\n",
       "      <td>Mayo</td>\n",
       "      <td>2018</td>\n",
       "      <td>TARASCO</td>\n",
       "      <td>-99.042786</td>\n",
       "      <td>19.319141</td>\n",
       "      <td>19.3191405147,-99.0427862526</td>\n",
       "    </tr>\n",
       "  </tbody>\n",
       "</table>\n",
       "</div>"
      ],
      "text/plain": [
       "   año_hechos mes_hechos         fecha_hechos  \\\n",
       "0      2016.0      Enero  2016-01-05 17:00:00   \n",
       "1      2017.0  Noviembre  2017-11-01 14:00:00   \n",
       "2      2017.0  Noviembre  2017-11-01 16:40:00   \n",
       "3      2015.0  Diciembre  2015-12-30 20:00:00   \n",
       "4      2018.0       Mayo  2018-05-16 16:00:00   \n",
       "\n",
       "                                              delito  \\\n",
       "0                                  LESIONES CULPOSAS   \n",
       "1  ROBO DE VEHICULO DE SERVICIO PARTICULAR SIN VI...   \n",
       "2     ROBO A TRANSEUNTE EN VIA PUBLICA CON VIOLENCIA   \n",
       "3                                             FRAUDE   \n",
       "4                    ROBO A REPARTIDOR CON VIOLENCIA   \n",
       "\n",
       "                                    categoria_delito  \\\n",
       "0                             DELITO DE BAJO IMPACTO   \n",
       "1               ROBO DE VEHÍCULO CON Y SIN VIOLENCIA   \n",
       "2  ROBO A TRANSEUNTE EN VÍA PÚBLICA CON Y SIN VIO...   \n",
       "3                             DELITO DE BAJO IMPACTO   \n",
       "4              ROBO A REPARTIDOR CON Y SIN VIOLENCIA   \n",
       "\n",
       "                             fiscalía agencia unidad_investigacion  \\\n",
       "0  INVESTIGACIÓN EN GUSTAVO A. MADERO   GAM-6               UI-1CD   \n",
       "1       INVESTIGACIÓN EN AZCAPOTZALCO    AZ-1               UI-1SD   \n",
       "2          INVESTIGACIÓN EN IZTACALCO   IZC-2               UI-1SD   \n",
       "3         INVESTIGACIÓN EN IZTAPALAPA   IZP-8               UI-1CD   \n",
       "4         INVESTIGACIÓN EN IZTAPALAPA   IZP-9               UI-2SD   \n",
       "\n",
       "                          colonia_hechos      alcaldia_hechos  \\\n",
       "0                       GRANJAS MODERNAS     GUSTAVO A MADERO   \n",
       "1                                    NaN  TLALNEPANTLA DE BAZ   \n",
       "2  GABRIEL RAMOS MILLÁN SECCIÓN TLACOTAL            IZTACALCO   \n",
       "3             CONSEJO AGRARISTA MEXICANO           IZTAPALAPA   \n",
       "4         DESARROLLO URBANO QUETZALCOATL           IZTAPALAPA   \n",
       "\n",
       "          fecha_inicio mes_inicio  ao_inicio              calle_hechos  \\\n",
       "0  2016-01-05 18:35:37      Enero       2016        SAN JUAN DE ARAGON   \n",
       "1  2017-11-01 16:45:20  Noviembre       2017             BENITO JUAREZ   \n",
       "2  2017-11-01 16:56:04  Noviembre       2017                   SUR 117   \n",
       "3  2016-01-05 21:12:42      Enero       2016  CUARTA CERRADA DE FRESNO   \n",
       "4  2018-05-22 10:44:45       Mayo       2018                   TARASCO   \n",
       "\n",
       "    longitud    latitud                      Geopoint  \n",
       "0 -99.103527  19.481076      19.4810759998,-99.103527  \n",
       "1        NaN        NaN                           NaN  \n",
       "2 -99.106072  19.395398  19.3953976727,-99.1060723829  \n",
       "3 -99.055887  19.322458      19.3224579998,-99.055887  \n",
       "4 -99.042786  19.319141  19.3191405147,-99.0427862526  "
      ]
     },
     "execution_count": 7,
     "metadata": {},
     "output_type": "execute_result"
    }
   ],
   "source": [
    "df = df.drop(['calle_hechos2'], axis=1)\n",
    "df.head(5)"
   ]
  },
  {
   "cell_type": "markdown",
   "metadata": {},
   "source": [
    "**Contando el número de delitos y el tiempo que abarcan**"
   ]
  },
  {
   "cell_type": "markdown",
   "metadata": {},
   "source": [
    "**2)** Están registrados 808871 delitos desde 1906 al 2019"
   ]
  },
  {
   "cell_type": "code",
   "execution_count": 8,
   "metadata": {},
   "outputs": [
    {
     "data": {
      "text/plain": [
       "2019.0"
      ]
     },
     "execution_count": 8,
     "metadata": {},
     "output_type": "execute_result"
    }
   ],
   "source": [
    "#Año maximo que abarca los datos\n",
    "df[\"año_hechos\"].max()"
   ]
  },
  {
   "cell_type": "code",
   "execution_count": 9,
   "metadata": {},
   "outputs": [
    {
     "data": {
      "text/plain": [
       "1906.0"
      ]
     },
     "execution_count": 9,
     "metadata": {},
     "output_type": "execute_result"
    }
   ],
   "source": [
    "#Año mínimo que abarca los datos\n",
    "df[\"año_hechos\"].min()"
   ]
  },
  {
   "cell_type": "markdown",
   "metadata": {},
   "source": [
    "**Contando el número de delitos**"
   ]
  },
  {
   "cell_type": "markdown",
   "metadata": {},
   "source": [
    "**3)** Los 5 delitos más frecuentes son: Violencia familiar, robo de objetos, robo a negocios sin violencía,\n",
    "    fraude y denuncia de hechos"
   ]
  },
  {
   "cell_type": "code",
   "execution_count": 10,
   "metadata": {},
   "outputs": [
    {
     "data": {
      "text/plain": [
       "VIOLENCIA FAMILIAR                                69517\n",
       "ROBO DE OBJETOS                                   52214\n",
       "ROBO A NEGOCIO SIN VIOLENCIA                      51426\n",
       "FRAUDE                                            45349\n",
       "DENUNCIA DE HECHOS                                44433\n",
       "AMENAZAS                                          37415\n",
       "ROBO A TRANSEUNTE EN VIA PUBLICA CON VIOLENCIA    29254\n",
       "ROBO A TRANSEUNTE DE CELULAR CON VIOLENCIA        25960\n",
       "ROBO DE ACCESORIOS DE AUTO                        25447\n",
       "ROBO DE OBJETOS DEL INTERIOR DE UN VEHICULO       23860\n",
       "Name: delito, dtype: int64"
      ]
     },
     "execution_count": 10,
     "metadata": {},
     "output_type": "execute_result"
    }
   ],
   "source": [
    "#Contar el número de delitos y ordenarlos de forma descendente\n",
    "df.delito.value_counts().iloc[:10]"
   ]
  },
  {
   "cell_type": "code",
   "execution_count": 11,
   "metadata": {},
   "outputs": [
    {
     "data": {
      "text/plain": [
       "<matplotlib.axes._subplots.AxesSubplot at 0x7f73719ac910>"
      ]
     },
     "execution_count": 11,
     "metadata": {},
     "output_type": "execute_result"
    },
    {
     "data": {
      "image/png": "[encoded data removed]",
      "text/plain": [
       "<Figure size 432x288 with 1 Axes>"
      ]
     },
     "metadata": {
      "needs_background": "light"
     },
     "output_type": "display_data"
    }
   ],
   "source": [
    "#Plotear los resultados para visualizar mejor\n",
    "df.delito.value_counts().iloc[:10].sort_values().plot(kind= \"barh\")"
   ]
  },
  {
   "cell_type": "code",
   "execution_count": 12,
   "metadata": {},
   "outputs": [
    {
     "data": {
      "text/plain": [
       "año_hechos\n",
       "2018.0    249585\n",
       "2017.0    225472\n",
       "2016.0    194085\n",
       "2019.0    113415\n",
       "2015.0     15424\n",
       "2014.0      3840\n",
       "2013.0      1914\n",
       "2012.0      1275\n",
       "2011.0       856\n",
       "2010.0       681\n",
       "dtype: int64"
      ]
     },
     "execution_count": 12,
     "metadata": {},
     "output_type": "execute_result"
    }
   ],
   "source": [
    "#número de delitos por año\n",
    "df.groupby('año_hechos').size().sort_values(ascending=False).head(10)"
   ]
  },
  {
   "cell_type": "markdown",
   "metadata": {},
   "source": [
    "**4) Delitos que van a la alza y a la baja**"
   ]
  },
  {
   "cell_type": "code",
   "execution_count": 29,
   "metadata": {},
   "outputs": [
    {
     "data": {
      "text/plain": [
       "245"
      ]
     },
     "execution_count": 29,
     "metadata": {},
     "output_type": "execute_result"
    }
   ],
   "source": [
    "df.delito.nunique()"
   ]
  },
  {
   "cell_type": "code",
   "execution_count": 27,
   "metadata": {},
   "outputs": [
    {
     "data": {
      "text/plain": [
       "<matplotlib.axes._subplots.AxesSubplot at 0x7f7353e05c10>"
      ]
     },
     "execution_count": 27,
     "metadata": {},
     "output_type": "execute_result"
    },
    {
     "data": {
      "image/png": "[encoded data removed]",
      "text/plain": [
       "<Figure size 432x288 with 1 Axes>"
      ]
     },
     "metadata": {
      "needs_background": "light"
     },
     "output_type": "display_data"
    }
   ],
   "source": [
    "df = df[df['año_hechos']==2019.0]\n",
    "df.delito.value_counts().iloc[:10].sort_values().plot(kind= \"barh\", title='delitos a la alza en CDMX en 2019')"
   ]
  },
  {
   "cell_type": "code",
   "execution_count": 33,
   "metadata": {},
   "outputs": [
    {
     "data": {
      "text/plain": [
       "<matplotlib.axes._subplots.AxesSubplot at 0x7f734efe4430>"
      ]
     },
     "execution_count": 33,
     "metadata": {},
     "output_type": "execute_result"
    },
    {
     "data": {
      "image/png": "[encoded data removed]",
      "text/plain": [
       "<Figure size 432x288 with 1 Axes>"
      ]
     },
     "metadata": {
      "needs_background": "light"
     },
     "output_type": "display_data"
    }
   ],
   "source": [
    "df.delito.value_counts().iloc[220:230].sort_values().plot(kind= \"barh\", title='delitos a la baja en CDMX en 2019')"
   ]
  },
  {
   "cell_type": "markdown",
   "metadata": {},
   "source": [
    "**Alcaldías con más delitos**"
   ]
  },
  {
   "cell_type": "markdown",
   "metadata": {},
   "source": [
    "**5)** La alcadía que mas delitos tiene es Cuauhtemoc. La que menos tienen es Milpa Alta. Cabe mencionar que sólo me estoy fijando en la CDMX (la cual, por definicón, la constituyen alcaldías).\n",
    "\n",
    "Puede haber muchas razones que ocasionen que la delegación Cuauhtemoc tenga más delitos. Una de ellas es que simplemente se reportaron más en ese lugar en comparación con las otras alcaldías. Además, colinda con muchas alcadías que también tienen muchos delitos reportados. Coincidentemente, están todas en el norte, y son muy densas.\n",
    "\n",
    "Por otro lado, la razón de que que Milpa Alta tenga menos delitos puede ser porque se encuentra en el sur, y es menos densa."
   ]
  },
  {
   "cell_type": "code",
   "execution_count": 14,
   "metadata": {},
   "outputs": [
    {
     "data": {
      "image/png": "[encoded data removed]",
      "text/plain": [
       "<Figure size 720x432 with 1 Axes>"
      ]
     },
     "metadata": {
      "needs_background": "light"
     },
     "output_type": "display_data"
    }
   ],
   "source": [
    "df = pd.read_csv(\"pgj.csv\")\n",
    "alcaldias = df.alcaldia_hechos.value_counts()[:16]\n",
    "plt.figure(figsize=(10,6))\n",
    "\n",
    "step = np.arange(len(alcaldias))\n",
    "plt.bar(step, alcaldias)\n",
    "plt.title(\"alcaldias con mas crimen\")\n",
    "plt.xticks(step, alcaldias.index, rotation=70)\n",
    "plt.show()"
   ]
  },
  {
   "cell_type": "markdown",
   "metadata": {},
   "source": [
    "**Número de delítos por meses/días**"
   ]
  },
  {
   "cell_type": "markdown",
   "metadata": {},
   "source": [
    "**7)** Ocurren más delitos en Invierno y Primavera. Siendo Mayo el mes donde se reportaron más delitos, y Julio el més donde se reportaron menos.\n",
    "\n",
    "Por otro lado, los días 1 y 15 de cada més es dónde se reportan más delitos"
   ]
  },
  {
   "cell_type": "code",
   "execution_count": 15,
   "metadata": {},
   "outputs": [
    {
     "data": {
      "image/png": "[encoded data removed]",
      "text/plain": [
       "<Figure size 720x432 with 1 Axes>"
      ]
     },
     "metadata": {
      "needs_background": "light"
     },
     "output_type": "display_data"
    }
   ],
   "source": [
    "meses = df.mes_hechos.value_counts()\n",
    "plt.figure(figsize=(10,6))\n",
    "\n",
    "step = np.arange(len(meses))\n",
    "plt.bar(step, meses)\n",
    "plt.title(\"meses con mas crimen\")\n",
    "plt.xticks(step, meses.index, rotation=70)\n",
    "plt.show()"
   ]
  },
  {
   "cell_type": "code",
   "execution_count": 16,
   "metadata": {},
   "outputs": [
    {
     "name": "stdout",
     "output_type": "stream",
     "text": [
      "<class 'pandas.core.frame.DataFrame'>\n",
      "RangeIndex: 808871 entries, 0 to 808870\n",
      "Data columns (total 18 columns):\n",
      " #   Column                Non-Null Count   Dtype         \n",
      "---  ------                --------------   -----         \n",
      " 0   año_hechos            808673 non-null  float64       \n",
      " 1   mes_hechos            808673 non-null  object        \n",
      " 2   fecha_hechos          808673 non-null  datetime64[ns]\n",
      " 3   delito                808871 non-null  object        \n",
      " 4   categoria_delito      808871 non-null  object        \n",
      " 5   fiscalía              808871 non-null  object        \n",
      " 6   agencia               808871 non-null  object        \n",
      " 7   unidad_investigacion  808646 non-null  object        \n",
      " 8   colonia_hechos        776781 non-null  object        \n",
      " 9   alcaldia_hechos       807860 non-null  object        \n",
      " 10  fecha_inicio          808871 non-null  object        \n",
      " 11  mes_inicio            808871 non-null  object        \n",
      " 12  ao_inicio             808871 non-null  int64         \n",
      " 13  calle_hechos          806467 non-null  object        \n",
      " 14  calle_hechos2         328009 non-null  object        \n",
      " 15  longitud              777536 non-null  float64       \n",
      " 16  latitud               777536 non-null  float64       \n",
      " 17  Geopoint              777536 non-null  object        \n",
      "dtypes: datetime64[ns](1), float64(3), int64(1), object(13)\n",
      "memory usage: 111.1+ MB\n"
     ]
    }
   ],
   "source": [
    "#parsing object to datetime\n",
    "df['fecha_hechos'] = pd.to_datetime(df['fecha_hechos'], format= '%Y/%m/%d')\n",
    "df.info()"
   ]
  },
  {
   "cell_type": "code",
   "execution_count": 17,
   "metadata": {},
   "outputs": [
    {
     "data": {
      "text/html": [
       "<div>\n",
       "<style scoped>\n",
       "    .dataframe tbody tr th:only-of-type {\n",
       "        vertical-align: middle;\n",
       "    }\n",
       "\n",
       "    .dataframe tbody tr th {\n",
       "        vertical-align: top;\n",
       "    }\n",
       "\n",
       "    .dataframe thead th {\n",
       "        text-align: right;\n",
       "    }\n",
       "</style>\n",
       "<table border=\"1\" class=\"dataframe\">\n",
       "  <thead>\n",
       "    <tr style=\"text-align: right;\">\n",
       "      <th></th>\n",
       "      <th>año_hechos</th>\n",
       "      <th>mes_hechos</th>\n",
       "      <th>fecha_hechos</th>\n",
       "      <th>delito</th>\n",
       "      <th>categoria_delito</th>\n",
       "      <th>fiscalía</th>\n",
       "      <th>agencia</th>\n",
       "      <th>unidad_investigacion</th>\n",
       "      <th>colonia_hechos</th>\n",
       "      <th>alcaldia_hechos</th>\n",
       "      <th>fecha_inicio</th>\n",
       "      <th>mes_inicio</th>\n",
       "      <th>ao_inicio</th>\n",
       "      <th>calle_hechos</th>\n",
       "      <th>calle_hechos2</th>\n",
       "      <th>longitud</th>\n",
       "      <th>latitud</th>\n",
       "      <th>Geopoint</th>\n",
       "      <th>dia</th>\n",
       "    </tr>\n",
       "  </thead>\n",
       "  <tbody>\n",
       "    <tr>\n",
       "      <th>225925</th>\n",
       "      <td>2019.0</td>\n",
       "      <td>Abril</td>\n",
       "      <td>2019-04-30 08:30:00</td>\n",
       "      <td>LESIONES INTENCIONALES POR GOLPES</td>\n",
       "      <td>DELITO DE BAJO IMPACTO</td>\n",
       "      <td>INVESTIGACIÓN EN MILPA ALTA</td>\n",
       "      <td>MIL-1</td>\n",
       "      <td>UI-2CD</td>\n",
       "      <td>SANTA CRUZ (VILLA MILPA ALTA)</td>\n",
       "      <td>MILPA ALTA</td>\n",
       "      <td>2019-05-02 21:09:54</td>\n",
       "      <td>Mayo</td>\n",
       "      <td>2019</td>\n",
       "      <td>BOULEVARD NUEVO LEON 356</td>\n",
       "      <td>NaN</td>\n",
       "      <td>-99.019557</td>\n",
       "      <td>19.19642</td>\n",
       "      <td>19.1964202991,-99.0195567998</td>\n",
       "      <td>30.0</td>\n",
       "    </tr>\n",
       "  </tbody>\n",
       "</table>\n",
       "</div>"
      ],
      "text/plain": [
       "        año_hechos mes_hechos        fecha_hechos  \\\n",
       "225925      2019.0      Abril 2019-04-30 08:30:00   \n",
       "\n",
       "                                   delito        categoria_delito  \\\n",
       "225925  LESIONES INTENCIONALES POR GOLPES  DELITO DE BAJO IMPACTO   \n",
       "\n",
       "                           fiscalía agencia unidad_investigacion  \\\n",
       "225925  INVESTIGACIÓN EN MILPA ALTA   MIL-1               UI-2CD   \n",
       "\n",
       "                       colonia_hechos alcaldia_hechos         fecha_inicio  \\\n",
       "225925  SANTA CRUZ (VILLA MILPA ALTA)      MILPA ALTA  2019-05-02 21:09:54   \n",
       "\n",
       "       mes_inicio  ao_inicio              calle_hechos calle_hechos2  \\\n",
       "225925       Mayo       2019  BOULEVARD NUEVO LEON 356           NaN   \n",
       "\n",
       "         longitud   latitud                      Geopoint   dia  \n",
       "225925 -99.019557  19.19642  19.1964202991,-99.0195567998  30.0  "
      ]
     },
     "execution_count": 17,
     "metadata": {},
     "output_type": "execute_result"
    }
   ],
   "source": [
    "#adding day column\n",
    "df['dia'] = df.fecha_hechos.dt.day\n",
    "df.sample(1)"
   ]
  },
  {
   "cell_type": "code",
   "execution_count": 18,
   "metadata": {},
   "outputs": [
    {
     "data": {
      "image/png": "[encoded data removed]",
      "text/plain": [
       "<Figure size 720x432 with 1 Axes>"
      ]
     },
     "metadata": {
      "needs_background": "light"
     },
     "output_type": "display_data"
    }
   ],
   "source": [
    "dias = df.dia.value_counts()\n",
    "plt.figure(figsize=(10,6))\n",
    "\n",
    "step = np.arange(len(dias))\n",
    "plt.bar(step, dias)\n",
    "plt.title(\"dias con mas crimen\")\n",
    "plt.xticks(step, dias.index, rotation=70)\n",
    "plt.show()"
   ]
  },
  {
   "cell_type": "markdown",
   "metadata": {},
   "source": [
    "**Delito mas recurrente por dia**"
   ]
  },
  {
   "cell_type": "code",
   "execution_count": 25,
   "metadata": {},
   "outputs": [
    {
     "data": {
      "text/html": [
       "<div>\n",
       "<style scoped>\n",
       "    .dataframe tbody tr th:only-of-type {\n",
       "        vertical-align: middle;\n",
       "    }\n",
       "\n",
       "    .dataframe tbody tr th {\n",
       "        vertical-align: top;\n",
       "    }\n",
       "\n",
       "    .dataframe thead th {\n",
       "        text-align: right;\n",
       "    }\n",
       "</style>\n",
       "<table border=\"1\" class=\"dataframe\">\n",
       "  <thead>\n",
       "    <tr style=\"text-align: right;\">\n",
       "      <th>dia</th>\n",
       "      <th>1.0</th>\n",
       "      <th>2.0</th>\n",
       "      <th>3.0</th>\n",
       "      <th>4.0</th>\n",
       "      <th>5.0</th>\n",
       "      <th>6.0</th>\n",
       "      <th>7.0</th>\n",
       "      <th>8.0</th>\n",
       "      <th>9.0</th>\n",
       "      <th>10.0</th>\n",
       "      <th>...</th>\n",
       "      <th>22.0</th>\n",
       "      <th>23.0</th>\n",
       "      <th>24.0</th>\n",
       "      <th>25.0</th>\n",
       "      <th>26.0</th>\n",
       "      <th>27.0</th>\n",
       "      <th>28.0</th>\n",
       "      <th>29.0</th>\n",
       "      <th>30.0</th>\n",
       "      <th>31.0</th>\n",
       "    </tr>\n",
       "    <tr>\n",
       "      <th>delito</th>\n",
       "      <th></th>\n",
       "      <th></th>\n",
       "      <th></th>\n",
       "      <th></th>\n",
       "      <th></th>\n",
       "      <th></th>\n",
       "      <th></th>\n",
       "      <th></th>\n",
       "      <th></th>\n",
       "      <th></th>\n",
       "      <th></th>\n",
       "      <th></th>\n",
       "      <th></th>\n",
       "      <th></th>\n",
       "      <th></th>\n",
       "      <th></th>\n",
       "      <th></th>\n",
       "      <th></th>\n",
       "      <th></th>\n",
       "      <th></th>\n",
       "      <th></th>\n",
       "    </tr>\n",
       "  </thead>\n",
       "  <tbody>\n",
       "    <tr>\n",
       "      <th>ABANDONO DE PERSONA</th>\n",
       "      <td>487.0</td>\n",
       "      <td>77.0</td>\n",
       "      <td>67.0</td>\n",
       "      <td>82.0</td>\n",
       "      <td>193.0</td>\n",
       "      <td>74.0</td>\n",
       "      <td>78.0</td>\n",
       "      <td>70.0</td>\n",
       "      <td>57.0</td>\n",
       "      <td>73.0</td>\n",
       "      <td>...</td>\n",
       "      <td>78.0</td>\n",
       "      <td>84.0</td>\n",
       "      <td>71.0</td>\n",
       "      <td>75.0</td>\n",
       "      <td>81.0</td>\n",
       "      <td>91.0</td>\n",
       "      <td>60.0</td>\n",
       "      <td>72.0</td>\n",
       "      <td>87.0</td>\n",
       "      <td>52.0</td>\n",
       "    </tr>\n",
       "    <tr>\n",
       "      <th>ABORTO</th>\n",
       "      <td>20.0</td>\n",
       "      <td>15.0</td>\n",
       "      <td>14.0</td>\n",
       "      <td>9.0</td>\n",
       "      <td>13.0</td>\n",
       "      <td>9.0</td>\n",
       "      <td>17.0</td>\n",
       "      <td>10.0</td>\n",
       "      <td>15.0</td>\n",
       "      <td>16.0</td>\n",
       "      <td>...</td>\n",
       "      <td>13.0</td>\n",
       "      <td>3.0</td>\n",
       "      <td>12.0</td>\n",
       "      <td>19.0</td>\n",
       "      <td>14.0</td>\n",
       "      <td>16.0</td>\n",
       "      <td>10.0</td>\n",
       "      <td>17.0</td>\n",
       "      <td>9.0</td>\n",
       "      <td>2.0</td>\n",
       "    </tr>\n",
       "    <tr>\n",
       "      <th>ABUSO DE AUTORIDAD</th>\n",
       "      <td>170.0</td>\n",
       "      <td>172.0</td>\n",
       "      <td>186.0</td>\n",
       "      <td>164.0</td>\n",
       "      <td>196.0</td>\n",
       "      <td>171.0</td>\n",
       "      <td>176.0</td>\n",
       "      <td>196.0</td>\n",
       "      <td>189.0</td>\n",
       "      <td>183.0</td>\n",
       "      <td>...</td>\n",
       "      <td>152.0</td>\n",
       "      <td>190.0</td>\n",
       "      <td>184.0</td>\n",
       "      <td>147.0</td>\n",
       "      <td>180.0</td>\n",
       "      <td>201.0</td>\n",
       "      <td>163.0</td>\n",
       "      <td>142.0</td>\n",
       "      <td>148.0</td>\n",
       "      <td>83.0</td>\n",
       "    </tr>\n",
       "    <tr>\n",
       "      <th>ABUSO DE CONFIANZA</th>\n",
       "      <td>682.0</td>\n",
       "      <td>443.0</td>\n",
       "      <td>422.0</td>\n",
       "      <td>395.0</td>\n",
       "      <td>450.0</td>\n",
       "      <td>382.0</td>\n",
       "      <td>399.0</td>\n",
       "      <td>444.0</td>\n",
       "      <td>388.0</td>\n",
       "      <td>488.0</td>\n",
       "      <td>...</td>\n",
       "      <td>412.0</td>\n",
       "      <td>419.0</td>\n",
       "      <td>338.0</td>\n",
       "      <td>366.0</td>\n",
       "      <td>360.0</td>\n",
       "      <td>350.0</td>\n",
       "      <td>439.0</td>\n",
       "      <td>367.0</td>\n",
       "      <td>439.0</td>\n",
       "      <td>221.0</td>\n",
       "    </tr>\n",
       "    <tr>\n",
       "      <th>ABUSO SEXUAL</th>\n",
       "      <td>477.0</td>\n",
       "      <td>257.0</td>\n",
       "      <td>270.0</td>\n",
       "      <td>221.0</td>\n",
       "      <td>266.0</td>\n",
       "      <td>239.0</td>\n",
       "      <td>298.0</td>\n",
       "      <td>272.0</td>\n",
       "      <td>284.0</td>\n",
       "      <td>257.0</td>\n",
       "      <td>...</td>\n",
       "      <td>232.0</td>\n",
       "      <td>248.0</td>\n",
       "      <td>246.0</td>\n",
       "      <td>248.0</td>\n",
       "      <td>240.0</td>\n",
       "      <td>281.0</td>\n",
       "      <td>248.0</td>\n",
       "      <td>214.0</td>\n",
       "      <td>245.0</td>\n",
       "      <td>118.0</td>\n",
       "    </tr>\n",
       "  </tbody>\n",
       "</table>\n",
       "<p>5 rows × 31 columns</p>\n",
       "</div>"
      ],
      "text/plain": [
       "dia                   1.0    2.0    3.0    4.0    5.0    6.0    7.0    8.0   \\\n",
       "delito                                                                        \n",
       "ABANDONO DE PERSONA  487.0   77.0   67.0   82.0  193.0   74.0   78.0   70.0   \n",
       "ABORTO                20.0   15.0   14.0    9.0   13.0    9.0   17.0   10.0   \n",
       "ABUSO DE AUTORIDAD   170.0  172.0  186.0  164.0  196.0  171.0  176.0  196.0   \n",
       "ABUSO DE CONFIANZA   682.0  443.0  422.0  395.0  450.0  382.0  399.0  444.0   \n",
       "ABUSO SEXUAL         477.0  257.0  270.0  221.0  266.0  239.0  298.0  272.0   \n",
       "\n",
       "dia                   9.0    10.0  ...   22.0   23.0   24.0   25.0   26.0  \\\n",
       "delito                             ...                                      \n",
       "ABANDONO DE PERSONA   57.0   73.0  ...   78.0   84.0   71.0   75.0   81.0   \n",
       "ABORTO                15.0   16.0  ...   13.0    3.0   12.0   19.0   14.0   \n",
       "ABUSO DE AUTORIDAD   189.0  183.0  ...  152.0  190.0  184.0  147.0  180.0   \n",
       "ABUSO DE CONFIANZA   388.0  488.0  ...  412.0  419.0  338.0  366.0  360.0   \n",
       "ABUSO SEXUAL         284.0  257.0  ...  232.0  248.0  246.0  248.0  240.0   \n",
       "\n",
       "dia                   27.0   28.0   29.0   30.0   31.0  \n",
       "delito                                                  \n",
       "ABANDONO DE PERSONA   91.0   60.0   72.0   87.0   52.0  \n",
       "ABORTO                16.0   10.0   17.0    9.0    2.0  \n",
       "ABUSO DE AUTORIDAD   201.0  163.0  142.0  148.0   83.0  \n",
       "ABUSO DE CONFIANZA   350.0  439.0  367.0  439.0  221.0  \n",
       "ABUSO SEXUAL         281.0  248.0  214.0  245.0  118.0  \n",
       "\n",
       "[5 rows x 31 columns]"
      ]
     },
     "execution_count": 25,
     "metadata": {},
     "output_type": "execute_result"
    }
   ],
   "source": [
    "df.groupby([\"dia\",\"delito\"]).size().sort_values(ascending=False).unstack(0).head(5)"
   ]
  },
  {
   "cell_type": "markdown",
   "metadata": {},
   "source": [
    "**Colonias con más delito dentro de cada alcaldía**\n",
    "\n",
    "\n",
    "**6)** Por ejemplo en la alcaldia Cuauhtemoc las tres delegaciones con más crímenes son: Centro, Doctores, Roma Norte\n",
    "\n",
    "   En la Benito Juarez es: Del Valle Centro, Narvarte, y Portales sur."
   ]
  },
  {
   "cell_type": "code",
   "execution_count": 26,
   "metadata": {},
   "outputs": [
    {
     "data": {
      "text/html": [
       "<div>\n",
       "<style scoped>\n",
       "    .dataframe tbody tr th:only-of-type {\n",
       "        vertical-align: middle;\n",
       "    }\n",
       "\n",
       "    .dataframe tbody tr th {\n",
       "        vertical-align: top;\n",
       "    }\n",
       "\n",
       "    .dataframe thead th {\n",
       "        text-align: right;\n",
       "    }\n",
       "</style>\n",
       "<table border=\"1\" class=\"dataframe\">\n",
       "  <thead>\n",
       "    <tr style=\"text-align: right;\">\n",
       "      <th>alcaldia_hechos</th>\n",
       "      <th>CUAUHTEMOC</th>\n",
       "      <th>BENITO JUAREZ</th>\n",
       "      <th>MIGUEL HIDALGO</th>\n",
       "      <th>IZTACALCO</th>\n",
       "      <th>IZTAPALAPA</th>\n",
       "      <th>VENUSTIANO CARRANZA</th>\n",
       "      <th>COYOACAN</th>\n",
       "      <th>GUSTAVO A MADERO</th>\n",
       "      <th>TLALPAN</th>\n",
       "      <th>AZCAPOTZALCO</th>\n",
       "      <th>...</th>\n",
       "      <th>TLAHUAC</th>\n",
       "      <th>MILPA ALTA</th>\n",
       "      <th>NAUCALPAN DE JUAREZ</th>\n",
       "      <th>ECATEPEC DE MORELOS</th>\n",
       "      <th>CUERNAVACA</th>\n",
       "      <th>HERMOSILLO</th>\n",
       "      <th>NEZAHUALCOYOTL</th>\n",
       "      <th>OAXACA DE JUAREZ</th>\n",
       "      <th>SAN JUAN GUICHICOVI</th>\n",
       "      <th>ZITACUARO</th>\n",
       "    </tr>\n",
       "    <tr>\n",
       "      <th>colonia_hechos</th>\n",
       "      <th></th>\n",
       "      <th></th>\n",
       "      <th></th>\n",
       "      <th></th>\n",
       "      <th></th>\n",
       "      <th></th>\n",
       "      <th></th>\n",
       "      <th></th>\n",
       "      <th></th>\n",
       "      <th></th>\n",
       "      <th></th>\n",
       "      <th></th>\n",
       "      <th></th>\n",
       "      <th></th>\n",
       "      <th></th>\n",
       "      <th></th>\n",
       "      <th></th>\n",
       "      <th></th>\n",
       "      <th></th>\n",
       "      <th></th>\n",
       "      <th></th>\n",
       "    </tr>\n",
       "  </thead>\n",
       "  <tbody>\n",
       "    <tr>\n",
       "      <th>CENTRO</th>\n",
       "      <td>28751.0</td>\n",
       "      <td>NaN</td>\n",
       "      <td>NaN</td>\n",
       "      <td>NaN</td>\n",
       "      <td>NaN</td>\n",
       "      <td>NaN</td>\n",
       "      <td>NaN</td>\n",
       "      <td>NaN</td>\n",
       "      <td>NaN</td>\n",
       "      <td>NaN</td>\n",
       "      <td>...</td>\n",
       "      <td>NaN</td>\n",
       "      <td>NaN</td>\n",
       "      <td>NaN</td>\n",
       "      <td>NaN</td>\n",
       "      <td>NaN</td>\n",
       "      <td>NaN</td>\n",
       "      <td>NaN</td>\n",
       "      <td>NaN</td>\n",
       "      <td>NaN</td>\n",
       "      <td>NaN</td>\n",
       "    </tr>\n",
       "    <tr>\n",
       "      <th>DOCTORES</th>\n",
       "      <td>16657.0</td>\n",
       "      <td>NaN</td>\n",
       "      <td>NaN</td>\n",
       "      <td>NaN</td>\n",
       "      <td>NaN</td>\n",
       "      <td>NaN</td>\n",
       "      <td>NaN</td>\n",
       "      <td>NaN</td>\n",
       "      <td>NaN</td>\n",
       "      <td>NaN</td>\n",
       "      <td>...</td>\n",
       "      <td>NaN</td>\n",
       "      <td>NaN</td>\n",
       "      <td>NaN</td>\n",
       "      <td>NaN</td>\n",
       "      <td>NaN</td>\n",
       "      <td>NaN</td>\n",
       "      <td>NaN</td>\n",
       "      <td>NaN</td>\n",
       "      <td>NaN</td>\n",
       "      <td>NaN</td>\n",
       "    </tr>\n",
       "    <tr>\n",
       "      <th>DEL VALLE CENTRO</th>\n",
       "      <td>NaN</td>\n",
       "      <td>12644.0</td>\n",
       "      <td>NaN</td>\n",
       "      <td>NaN</td>\n",
       "      <td>NaN</td>\n",
       "      <td>NaN</td>\n",
       "      <td>NaN</td>\n",
       "      <td>NaN</td>\n",
       "      <td>NaN</td>\n",
       "      <td>NaN</td>\n",
       "      <td>...</td>\n",
       "      <td>NaN</td>\n",
       "      <td>NaN</td>\n",
       "      <td>NaN</td>\n",
       "      <td>NaN</td>\n",
       "      <td>NaN</td>\n",
       "      <td>NaN</td>\n",
       "      <td>NaN</td>\n",
       "      <td>NaN</td>\n",
       "      <td>NaN</td>\n",
       "      <td>NaN</td>\n",
       "    </tr>\n",
       "    <tr>\n",
       "      <th>ROMA NORTE</th>\n",
       "      <td>10403.0</td>\n",
       "      <td>NaN</td>\n",
       "      <td>NaN</td>\n",
       "      <td>NaN</td>\n",
       "      <td>NaN</td>\n",
       "      <td>NaN</td>\n",
       "      <td>NaN</td>\n",
       "      <td>NaN</td>\n",
       "      <td>NaN</td>\n",
       "      <td>NaN</td>\n",
       "      <td>...</td>\n",
       "      <td>NaN</td>\n",
       "      <td>NaN</td>\n",
       "      <td>NaN</td>\n",
       "      <td>NaN</td>\n",
       "      <td>NaN</td>\n",
       "      <td>NaN</td>\n",
       "      <td>NaN</td>\n",
       "      <td>NaN</td>\n",
       "      <td>NaN</td>\n",
       "      <td>NaN</td>\n",
       "    </tr>\n",
       "    <tr>\n",
       "      <th>NARVARTE</th>\n",
       "      <td>NaN</td>\n",
       "      <td>9317.0</td>\n",
       "      <td>NaN</td>\n",
       "      <td>NaN</td>\n",
       "      <td>NaN</td>\n",
       "      <td>NaN</td>\n",
       "      <td>NaN</td>\n",
       "      <td>NaN</td>\n",
       "      <td>NaN</td>\n",
       "      <td>NaN</td>\n",
       "      <td>...</td>\n",
       "      <td>NaN</td>\n",
       "      <td>NaN</td>\n",
       "      <td>NaN</td>\n",
       "      <td>NaN</td>\n",
       "      <td>NaN</td>\n",
       "      <td>NaN</td>\n",
       "      <td>NaN</td>\n",
       "      <td>NaN</td>\n",
       "      <td>NaN</td>\n",
       "      <td>NaN</td>\n",
       "    </tr>\n",
       "  </tbody>\n",
       "</table>\n",
       "<p>5 rows × 24 columns</p>\n",
       "</div>"
      ],
      "text/plain": [
       "alcaldia_hechos   CUAUHTEMOC  BENITO JUAREZ  MIGUEL HIDALGO  IZTACALCO  \\\n",
       "colonia_hechos                                                           \n",
       "CENTRO               28751.0            NaN             NaN        NaN   \n",
       "DOCTORES             16657.0            NaN             NaN        NaN   \n",
       "DEL VALLE CENTRO         NaN        12644.0             NaN        NaN   \n",
       "ROMA NORTE           10403.0            NaN             NaN        NaN   \n",
       "NARVARTE                 NaN         9317.0             NaN        NaN   \n",
       "\n",
       "alcaldia_hechos   IZTAPALAPA  VENUSTIANO CARRANZA  COYOACAN  GUSTAVO A MADERO  \\\n",
       "colonia_hechos                                                                  \n",
       "CENTRO                   NaN                  NaN       NaN               NaN   \n",
       "DOCTORES                 NaN                  NaN       NaN               NaN   \n",
       "DEL VALLE CENTRO         NaN                  NaN       NaN               NaN   \n",
       "ROMA NORTE               NaN                  NaN       NaN               NaN   \n",
       "NARVARTE                 NaN                  NaN       NaN               NaN   \n",
       "\n",
       "alcaldia_hechos   TLALPAN  AZCAPOTZALCO  ...  TLAHUAC  MILPA ALTA  \\\n",
       "colonia_hechos                           ...                        \n",
       "CENTRO                NaN           NaN  ...      NaN         NaN   \n",
       "DOCTORES              NaN           NaN  ...      NaN         NaN   \n",
       "DEL VALLE CENTRO      NaN           NaN  ...      NaN         NaN   \n",
       "ROMA NORTE            NaN           NaN  ...      NaN         NaN   \n",
       "NARVARTE              NaN           NaN  ...      NaN         NaN   \n",
       "\n",
       "alcaldia_hechos   NAUCALPAN DE JUAREZ  ECATEPEC DE MORELOS  CUERNAVACA  \\\n",
       "colonia_hechos                                                           \n",
       "CENTRO                            NaN                  NaN         NaN   \n",
       "DOCTORES                          NaN                  NaN         NaN   \n",
       "DEL VALLE CENTRO                  NaN                  NaN         NaN   \n",
       "ROMA NORTE                        NaN                  NaN         NaN   \n",
       "NARVARTE                          NaN                  NaN         NaN   \n",
       "\n",
       "alcaldia_hechos   HERMOSILLO  NEZAHUALCOYOTL  OAXACA DE JUAREZ  \\\n",
       "colonia_hechos                                                   \n",
       "CENTRO                   NaN             NaN               NaN   \n",
       "DOCTORES                 NaN             NaN               NaN   \n",
       "DEL VALLE CENTRO         NaN             NaN               NaN   \n",
       "ROMA NORTE               NaN             NaN               NaN   \n",
       "NARVARTE                 NaN             NaN               NaN   \n",
       "\n",
       "alcaldia_hechos   SAN JUAN GUICHICOVI  ZITACUARO  \n",
       "colonia_hechos                                    \n",
       "CENTRO                            NaN        NaN  \n",
       "DOCTORES                          NaN        NaN  \n",
       "DEL VALLE CENTRO                  NaN        NaN  \n",
       "ROMA NORTE                        NaN        NaN  \n",
       "NARVARTE                          NaN        NaN  \n",
       "\n",
       "[5 rows x 24 columns]"
      ]
     },
     "execution_count": 26,
     "metadata": {},
     "output_type": "execute_result"
    }
   ],
   "source": [
    "df.groupby([\"alcaldia_hechos\",\"colonia_hechos\"]).size().sort_values(ascending=False, na_position='last').unstack(0).head(5)"
   ]
  },
  {
   "cell_type": "code",
   "execution_count": 21,
   "metadata": {},
   "outputs": [
    {
     "data": {
      "image/png": "[encoded data removed]",
      "text/plain": [
       "<Figure size 864x576 with 1 Axes>"
      ]
     },
     "metadata": {
      "needs_background": "light"
     },
     "output_type": "display_data"
    }
   ],
   "source": [
    "colonias = df.colonia_hechos.value_counts()[:20]\n",
    "plt.figure(figsize=(12,8))\n",
    "\n",
    "step = np.arange(len(colonias))\n",
    "plt.bar(step, colonias)\n",
    "plt.title(\"colonias con mas crimen\")\n",
    "plt.xticks(step, colonias.index, rotation=70)\n",
    "plt.show()"
   ]
  },
  {
   "cell_type": "markdown",
   "metadata": {},
   "source": [
    "**10)** La manera en que diseñaría un indicador que midiera el indice de inseguridad sería fijandome en el AGEB y dibujaría un mapa\n",
    "que indicara las zonas con más \"inseguridad\" con diferente color. Sin embargo, inseguridad es una palabra muy general. Me parece que\n",
    "sería más útil ilustrar en que zonas suceden con mayor frecuencia cierto tipo de delitos.\n",
    "Más aún, podríamos entrenar algún multiclasificador y predecir en que zonas se esperan más delitos."
   ]
  },
  {
   "cell_type": "code",
   "execution_count": null,
   "metadata": {},
   "outputs": [],
   "source": []
  }
 ],
 "metadata": {
  "kernelspec": {
   "display_name": "xgb",
   "language": "python",
   "name": "xgb"
  },
  "language_info": {
   "codemirror_mode": {
    "name": "ipython",
    "version": 3
   },
   "file_extension": ".py",
   "mimetype": "text/x-python",
   "name": "python",
   "nbconvert_exporter": "python",
   "pygments_lexer": "ipython3",
   "version": "3.8.5"
  }
 },
 "nbformat": 4,
 "nbformat_minor": 4
}
